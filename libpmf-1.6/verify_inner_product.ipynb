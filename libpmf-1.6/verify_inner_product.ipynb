{
 "cells": [
  {
   "cell_type": "code",
   "execution_count": 887,
   "metadata": {
    "collapsed": true
   },
   "outputs": [],
   "source": [
    "import numpy as np\n",
    "from docopt import docopt\n",
    "from scipy import sparse\n",
    "import os\n",
    "import subprocess\n",
    "from shutil import copyfile\n",
    "from operator import itemgetter"
   ]
  },
  {
   "cell_type": "code",
   "execution_count": 888,
   "metadata": {},
   "outputs": [
    {
     "data": {
      "text/plain": [
       "'\\nworkflow of the verify_implementation script\\n\\nverify glove bias\\n1. I build W and H matrix, build bias term. And then, multply W and H, add bias term, use this matrix as my question\\n2. store the question matrix nnz term and meta information to ./matrix_folder\\n3. build a weight matrix and store its question and nnz term to ./count_folder\\n4. modified code, let it output bias term when factorize the matrix\\n5. read in the answer matrix, test them, to see whether it can output the bias term\\n\\n\\nverify glove weight\\n\\n\\n\\n\\n\\n\\n'"
      ]
     },
     "execution_count": 888,
     "metadata": {},
     "output_type": "execute_result"
    }
   ],
   "source": [
    "'''\n",
    "workflow of the verify_implementation script\n",
    "\n",
    "verify glove bias\n",
    "1. I build W and H matrix, build bias term. And then, multply W and H, add bias term, use this matrix as my question\n",
    "2. store the question matrix nnz term and meta information to ./matrix_folder\n",
    "3. build a weight matrix and store its question and nnz term to ./count_folder\n",
    "4. modified code, let it output bias term when factorize the matrix\n",
    "5. read in the answer matrix, test them, to see whether it can output the bias term\n",
    "\n",
    "\n",
    "verify glove weight\n",
    "1. I build W and H matrix, multply W and H, use this matrix as my question\n",
    "2. build a weight matrix, assign one position very high weight, store nnz and meta file in count_folder\n",
    "3. open glove weight, close glove bias, factorize the matrix\n",
    "4. 5. read in the answer matrix, test them, to see the error on the position with high weight\n",
    "\n",
    "\n",
    "\n",
    "\n",
    "\n",
    "\n",
    "'''"
   ]
  },
  {
   "cell_type": "code",
   "execution_count": 889,
   "metadata": {
    "collapsed": true
   },
   "outputs": [],
   "source": [
    "def build_answer_and_question(matrix_size, embedding_rank, include_bias = 0):\n",
    "    W = np.random.random((matrix_size, embedding_rank))\n",
    "    H = np.random.random((embedding_rank, matrix_size))\n",
    "\n",
    "#     W = W*(W>0.55)\n",
    "#     H = H*(H<0.45)\n",
    "    \n",
    "    W_bias = np.random.random(matrix_size)\n",
    "    H_bias = np.random.random(matrix_size)\n",
    "    \n",
    "    question_matrix = np.dot(W, H)\n",
    "    \n",
    "    if include_bias:\n",
    "\n",
    "        print \"inlcude_bias is on\"\n",
    "        question_matrix = np.transpose(question_matrix)\n",
    "        for i in range(question_matrix.shape[0]):\n",
    "            question_matrix[i] = np.add(question_matrix[i], W_bias)\n",
    "        question_matrix = np.transpose(question_matrix)\n",
    "        \n",
    "        for i in range(question_matrix.shape[1]):\n",
    "            question_matrix[i] = np.add(question_matrix[i], H_bias)\n",
    "    \n",
    "    \n",
    "    \n",
    "    print question_matrix[1][5]\n",
    "    print (np.dot(W[1], H[:,5]) + W_bias[1] + H_bias[5])\n",
    "    return W, H ,W_bias, H_bias, question_matrix"
   ]
  },
  {
   "cell_type": "code",
   "execution_count": 894,
   "metadata": {
    "collapsed": true
   },
   "outputs": [],
   "source": [
    "def build_weight_matrix(matrix_size, weight_for_exception_term):\n",
    "    weight_matrix = np.ones((matrix_size, matrix_size))\n",
    "    weight_matrix[1][1] = 1\n",
    "    \n",
    "    return weight_matrix"
   ]
  },
  {
   "cell_type": "code",
   "execution_count": 891,
   "metadata": {
    "collapsed": true
   },
   "outputs": [],
   "source": [
    "def save_nonzero_term_fast(nparray, path_and_name):\n",
    "    csrmatrix = sparse.csr_matrix(nparray)  \n",
    "    with open(path_and_name,'w') as f:\n",
    "        for i in range(len(csrmatrix.indptr)-1):\n",
    "#             if i % 1000000 == 0:\n",
    "#                 print i, len(csrmatrix.indptr)-1\n",
    "            columnIndices=[]\n",
    "            dataInLine=[]\n",
    "            columnIndices=csrmatrix.indices[csrmatrix.indptr[i]:csrmatrix.indptr[i+1]] \n",
    "            dataInLine=csrmatrix.data[csrmatrix.indptr[i]:csrmatrix.indptr[i+1]]\n",
    "            for j in range(len(columnIndices)):\n",
    "                f.write(\"%d %d %.6f\\n\"% (i+1, columnIndices[j]+1, dataInLine[j]))         "
   ]
  },
  {
   "cell_type": "code",
   "execution_count": 892,
   "metadata": {
    "collapsed": true
   },
   "outputs": [],
   "source": [
    "# 71290 71290\n",
    "# 0 training.ratings\n",
    "# 0 test.ratings\n",
    "def create_meta_file(nparray, path_and_name):\n",
    "    csrmatrix = sparse.csr_matrix(nparray)\n",
    "    nnz_number = csrmatrix.getnnz()\n",
    "    size = nparray.shape[0]\n",
    "\n",
    "    with open(path_and_name,'w') as f:\n",
    "        f.write(\"%d %d\\n\" %(size, size))\n",
    "        f.write(\"%d %s\\n\" %(nnz_number, 'training.ratings'))\n",
    "        f.write(\"%d %s\" %(nnz_number, 'test.ratings'))"
   ]
  },
  {
   "cell_type": "code",
   "execution_count": 874,
   "metadata": {
    "collapsed": true
   },
   "outputs": [],
   "source": [
    "def read_answer(path_and_name):\n",
    "    a = np.loadtxt(path_and_name +'.W')\n",
    "#     print (\"a.shape\",a.shape)\n",
    "    b = np.transpose(np.loadtxt(path_and_name +'.H'))\n",
    "#     print (\"b.shape\",b.shape)\n",
    "    return a, b"
   ]
  },
  {
   "cell_type": "code",
   "execution_count": 897,
   "metadata": {},
   "outputs": [
    {
     "name": "stdout",
     "output_type": "stream",
     "text": [
      "1.66432280421\n",
      "2.23205736607\n",
      "[[ 1.948  1.207  1.022  1.086  0.74   1.841  1.261  0.853]\n",
      " [ 1.557  0.899  1.423  0.82   1.182  1.664  1.272  1.037]\n",
      " [ 2.226  1.544  1.73   1.185  1.545  2.668  1.981  1.356]\n",
      " [ 2.017  1.199  1.564  1.22   1.441  1.681  1.142  1.166]\n",
      " [ 1.03   0.696  0.654  0.5    0.775  1.051  0.767  0.513]\n",
      " [ 1.536  1.204  1.27   0.977  1.647  1.802  1.268  0.987]\n",
      " [ 2.187  1.495  1.485  1.431  1.506  2.159  1.436  1.185]\n",
      " [ 1.707  1.298  1.146  0.977  1.223  1.761  1.205  0.939]]\n"
     ]
    }
   ],
   "source": [
    "#verify glove weight\n",
    "matrix_size = 8\n",
    "rank = 6\n",
    "\n",
    "W, H ,W_bias, H_bias, question_matrix = build_answer_and_question(matrix_size, rank, 0)\n",
    "create_meta_file(question_matrix, \"./matrix_folder/meta\")\n",
    "save_nonzero_term_fast(question_matrix, \"./matrix_folder/training.ratings\")\n",
    "save_nonzero_term_fast(question_matrix, \"./matrix_folder/test.ratings\")\n",
    "\n",
    "weight_matrix = build_weight_matrix(matrix_size, 1000)\n",
    "create_meta_file(weight_matrix, \"./count_folder/meta\")\n",
    "save_nonzero_term_fast(weight_matrix, \"./count_folder/training.ratings\")\n",
    "save_nonzero_term_fast(weight_matrix, \"./count_folder/test.ratings\")\n",
    "\n",
    "subprocess.check_output([\"make\"])\n",
    "subprocess.check_output([\"./converter\", \"./matrix_folder\"])\n",
    "subprocess.check_output([\"./omp-pmf-train\", \"-s\", \"10\", \"-n\", \"10\", \"-f\", \"1\", \"-t\", \"20\", \"-q\", \"1\", \"-p\", \"0\", \"-r\", \"0.015625\", \"-l\", \"0.015625\", \"-b\", \"0\", \"-k\", str(rank), \"-E\", \"0\", \"-X\", \"1000000\", \"-W\", \"1\", \"-G\", \"0\", \"matrix_folder\", \"count_folder\", \"test_code\"])\n",
    "\n",
    "W_answer, H_answer = read_answer('test_code-l0.015625-r0.015625-iter20-gweight1-xmax1000000-gbias0.final')\n",
    "subprocess.check_output([\"rm\", 'test_code-l0.015625-r0.015625-iter20-gweight1-xmax1000000-gbias0.final.W'])\n",
    "subprocess.check_output([\"rm\", 'test_code-l0.015625-r0.015625-iter20-gweight1-xmax1000000-gbias0.final.H'])\n",
    "\n",
    "print np.subtract(question_matrix, np.dot(W_answer, H_answer))"
   ]
  },
  {
   "cell_type": "code",
   "execution_count": null,
   "metadata": {
    "collapsed": true
   },
   "outputs": [],
   "source": []
  },
  {
   "cell_type": "code",
   "execution_count": null,
   "metadata": {
    "collapsed": true
   },
   "outputs": [],
   "source": []
  },
  {
   "cell_type": "code",
   "execution_count": null,
   "metadata": {
    "collapsed": true
   },
   "outputs": [],
   "source": []
  },
  {
   "cell_type": "code",
   "execution_count": 885,
   "metadata": {
    "scrolled": true
   },
   "outputs": [
    {
     "name": "stdout",
     "output_type": "stream",
     "text": [
      "inlcude_bias is on\n",
      "2.11814568245\n",
      "2.11814568245\n",
      "[ 0.742  0.035  0.565  0.788  0.807  0.797  0.974  0.709]\n",
      "[ 0.025 -0.085  0.064  0.018  0.001  0.001  0.083  0.05 ]\n",
      "[ 0.884  0.645  0.792  0.581  0.905  0.975  0.075  0.2  ]\n",
      "[ 0.17   0.148  0.203  0.146  0.222  0.197  0.06   0.105]\n",
      "[(1, 0.034687117733612549), (2, 0.5646343551039168), (7, 0.70892671481778602), (0, 0.74154172135293617), (3, 0.78792273763768861), (5, 0.79665764254060456), (4, 0.80666487565685507), (6, 0.9739816139185018)]\n",
      "[(1, -0.084616999999999998), (5, 0.001132), (4, 0.0014790000000000001), (3, 0.017877000000000001), (0, 0.025127), (7, 0.049993000000000003), (2, 0.064140000000000003), (6, 0.082632999999999998)]\n"
     ]
    }
   ],
   "source": [
    "#verify glove bias\n",
    "\n",
    "# def main():\n",
    "#     args = docopt(\"\"\"\n",
    "#     Usage: \n",
    "#         verify_inner_product.py <representation_shared_path>\n",
    "#     \"\"\")\n",
    "\n",
    "matrix_size = 8\n",
    "rank = 5\n",
    "W, H ,W_bias, H_bias, question_matrix = build_answer_and_question(matrix_size, rank, 1)\n",
    "\n",
    "# print question_matrix\n",
    "\n",
    "create_meta_file(question_matrix, \"./matrix_folder/meta\")\n",
    "save_nonzero_term_fast(question_matrix, \"./matrix_folder/training.ratings\")\n",
    "save_nonzero_term_fast(question_matrix, \"./matrix_folder/test.ratings\")\n",
    "\n",
    "create_meta_file(question_matrix, \"./count_folder/meta\")\n",
    "save_nonzero_term_fast(question_matrix, \"./count_folder/training.ratings\")\n",
    "save_nonzero_term_fast(question_matrix, \"./matrix_folder/test.ratings\")\n",
    "\n",
    "subprocess.check_output([\"make\"])\n",
    "subprocess.check_output([\"./converter\", \"./matrix_folder\"])\n",
    "subprocess.check_output([\"./omp-pmf-train\", \"-s\", \"10\", \"-n\", \"10\", \"-f\", \"1\", \"-t\", \"10\", \"-q\", \"1\", \"-p\", \"0\", \"-r\", \"0.015625\", \"-l\", \"0.03125\", \"-b\", \"0\", \"-k\", str(rank), \"-E\", \"0\", \"-X\", \"1\", \"-W\", \"0\", \"-G\", \"2\", \"matrix_folder\", \"count_folder\", \"test_code\"])\n",
    "\n",
    "W_answer, H_answer = read_answer('test_code-l0.031250-r0.015625-iter10-gweight0-xmax1-gbias2.final')\n",
    "subprocess.check_output([\"rm\", 'test_code-l0.031250-r0.015625-iter10-gweight0-xmax1-gbias2.final.W'])\n",
    "subprocess.check_output([\"rm\", 'test_code-l0.031250-r0.015625-iter10-gweight0-xmax1-gbias2.final.H'])\n",
    "\n",
    "print W_bias\n",
    "print W_answer[:,rank+1]\n",
    "\n",
    "print H_bias\n",
    "print H_answer[rank,:]\n",
    "\n",
    "W_bias_dict = dict([(i, a) for i, a in enumerate(W_bias)])\n",
    "sort_W_bias_dict = sorted(W_bias_dict.items(), key=itemgetter(1))\n",
    "print sort_W_bias_dict\n",
    "\n",
    "W_answer_dict = dict([(i, a) for i, a in enumerate(W_answer[:,rank+1])])\n",
    "sort_W_answer_dict = sorted(W_answer_dict.items(), key=itemgetter(1))\n",
    "print sort_W_answer_dict\n",
    "\n",
    "H_bias_dict = dict([(i, a) for i, a in enumerate(H_bias)])\n",
    "sort_H_bias_dict = sorted(H_bias_dict.items(), key=itemgetter(1))\n",
    "# print H_bias_dict\n",
    "\n",
    "H_answer_dict = dict([(i, a) for i, a in enumerate(H_answer[rank,:])])\n",
    "sort_H_answer_dict = sorted(H_answer_dict.items(), key=itemgetter(1))\n",
    "# print H_answer_dict\n",
    "\n",
    "# print np.subtract(W_bias, W_answer[:,rank+1])\n",
    "# print np.subtract(H_bias, H_answer[rank,:])"
   ]
  },
  {
   "cell_type": "code",
   "execution_count": null,
   "metadata": {
    "collapsed": true
   },
   "outputs": [],
   "source": []
  }
 ],
 "metadata": {
  "kernelspec": {
   "display_name": "Python [conda env:py27]",
   "language": "python",
   "name": "conda-env-py27-py"
  },
  "language_info": {
   "codemirror_mode": {
    "name": "ipython",
    "version": 2
   },
   "file_extension": ".py",
   "mimetype": "text/x-python",
   "name": "python",
   "nbconvert_exporter": "python",
   "pygments_lexer": "ipython2",
   "version": "2.7.12"
  }
 },
 "nbformat": 4,
 "nbformat_minor": 2
}
