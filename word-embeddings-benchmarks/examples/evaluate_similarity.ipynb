{
 "cells": [
  {
   "cell_type": "code",
   "execution_count": 10,
   "metadata": {},
   "outputs": [],
   "source": [
    "import logging\n",
    "from six import iteritems\n",
    "from web.datasets.similarity import fetch_MEN, fetch_WS353, fetch_simlex999\n",
    "from web.embeddings import fetch_GloVe\n",
    "from web.similarity import evaluate_similarity"
   ]
  },
  {
   "cell_type": "code",
   "execution_count": 5,
   "metadata": {},
   "outputs": [],
   "source": [
    "# Configure logging\n",
    "logging.basicConfig(format='%(asctime)s %(levelname)s:%(message)s', level=logging.DEBUG, datefmt='%I:%M:%S')"
   ]
  },
  {
   "cell_type": "code",
   "execution_count": 6,
   "metadata": {},
   "outputs": [],
   "source": [
    "# Fetch GloVe embedding (warning: it might take few minutes)\n",
    "w_glove = fetch_GloVe(corpus=\"wiki-6B\", dim=300)"
   ]
  },
  {
   "cell_type": "code",
   "execution_count": 7,
   "metadata": {},
   "outputs": [],
   "source": [
    "# Define tasks\n",
    "tasks = {\n",
    "    \"MEN\": fetch_MEN(),\n",
    "    \"WS353\": fetch_WS353(),\n",
    "    \"SIMLEX999\": fetch_simlex999()\n",
    "}"
   ]
  },
  {
   "cell_type": "code",
   "execution_count": 8,
   "metadata": {},
   "outputs": [
    {
     "name": "stdout",
     "output_type": "stream",
     "text": [
      "Sample data from SIMLEX999: pair \"old\" and \"new\" is assigned score 1.58\n",
      "Sample data from MEN: pair \"sun\" and \"sunlight\" is assigned score [ 10.]\n",
      "Sample data from WS353: pair \"love\" and \"sex\" is assigned score 6.77\n"
     ]
    }
   ],
   "source": [
    "# Print sample data\n",
    "for name, data in iteritems(tasks):\n",
    "    print(\"Sample data from {}: pair \\\"{}\\\" and \\\"{}\\\" is assigned score {}\".format(name, data.X[0][0], data.X[0][1], data.y[0]))"
   ]
  },
  {
   "cell_type": "code",
   "execution_count": 11,
   "metadata": {},
   "outputs": [
    {
     "name": "stdout",
     "output_type": "stream",
     "text": [
      "Spearman correlation of scores on SIMLEX999 0.370500357109\n",
      "Spearman correlation of scores on MEN 0.737464696981\n",
      "Spearman correlation of scores on WS353 0.521712569525\n"
     ]
    }
   ],
   "source": [
    "# Calculate results using helper function\n",
    "for name, data in iteritems(tasks):\n",
    "    print \"Spearman correlation of scores on {} {}\".format(name, evaluate_similarity(w_glove, data.X, data.y))"
   ]
  }
 ],
 "metadata": {
  "kernelspec": {
   "display_name": "Python 2",
   "language": "python",
   "name": "python2"
  },
  "language_info": {
   "codemirror_mode": {
    "name": "ipython",
    "version": 2.0
   },
   "file_extension": ".py",
   "mimetype": "text/x-python",
   "name": "python",
   "nbconvert_exporter": "python",
   "pygments_lexer": "ipython2",
   "version": "2.7.11"
  }
 },
 "nbformat": 4,
 "nbformat_minor": 0
}